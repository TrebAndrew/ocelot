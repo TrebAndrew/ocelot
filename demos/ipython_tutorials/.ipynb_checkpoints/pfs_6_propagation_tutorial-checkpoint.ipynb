{
 "cells": [
  {
   "cell_type": "markdown",
   "metadata": {},
   "source": [
    "*This notebook was created by Svitozar Serkez, Andrei Trebushinin (andrei.trebushinin@xfel.eu) and Mykola Veremchuk. Source and license info is on [GitHub](https://github.com/ocelot-collab/ocelot). February 2020.*"
   ]
  },
  {
   "cell_type": "markdown",
   "metadata": {},
   "source": [
    "## Tutorial on the radiation field propagation and grid resizing"
   ]
  },
  {
   "cell_type": "code",
   "execution_count": 23,
   "metadata": {},
   "outputs": [
    {
     "data": {
      "application/javascript": [
       "MathJax.Hub.Config({\n",
       "    TeX: { equationNumbers: { autoNumber: \"AMS\" } }\n",
       "});\n"
      ],
      "text/plain": [
       "<IPython.core.display.Javascript object>"
      ]
     },
     "metadata": {},
     "output_type": "display_data"
    }
   ],
   "source": [
    "%%javascript #for numbering equations\n",
    "MathJax.Hub.Config({\n",
    "    TeX: { equationNumbers: { autoNumber: \"AMS\" } }\n",
    "});"
   ]
  },
  {
   "cell_type": "markdown",
   "metadata": {},
   "source": [
    "Here we give an easy way of derivation a free space propogator used in OCELOT code based on direct usage of the Maxwell equation.\n",
    "\n",
    "\\begin{align}\n",
    "\\nabla \\times \\vec{\\mathbf{B}} -\\, \\frac1c\\, \\frac{\\partial\\vec{\\mathbf{E}}}{\\partial t} & = \\frac{4\\pi}{c}\n",
    "\\vec{\\mathbf{j}} \\\\   \\nabla \\cdot \\vec{\\mathbf{E}} & = 4 \\pi \\rho \\\\\n",
    "\\nabla \\times \\vec{\\mathbf{E}}\\, +\\, \\frac1c\\, \\frac{\\partial\\vec{\\mathbf{B}}}{\\partial t} & = \\vec{\\mathbf{0}} \\\\\n",
    "\\nabla \\cdot \\vec{\\mathbf{B}} & = 0\n",
    "\\end{align}\n",
    "\n",
    "We start for the Helmholtz equation obtained be acting $\\nabla \\times$ operator on the $rot(\\vec{H}) = -\\cfrac{1}  {c}\\cfrac{\\partial{\\vec{E}}}{\\partial{t}}$ and sabstituting $\\cfrac{\\partial{\\vec{E}}}{\\partial{t}}$ from the other Maxwell equation. The derivation can be found in every lecture on clasical electrodinamic.\n",
    "\n",
    "\\begin{equation}\n",
    "    c^2 \\nabla^2 \\vec{E} - \\cfrac{\\partial^2{\\vec{E}}}{\\partial{t}^2} = 0\n",
    "    \\label{eq:Fourier_rt}\n",
    "\\end{equation}"
   ]
  },
  {
   "cell_type": "markdown",
   "metadata": {},
   "source": [
    "Here we give Fourier transform defenition for time-frequence domains\n",
    "\n",
    "$\\vec{\\hat{E}}(\\omega, x, y, z) = \\mathcal{F_{\\omega t}}[\\vec{E}(t, x, y, z)] =  \\displaystyle\\int\\limits_{-\\infty}^{\\infty} d\\omega \\vec{E}(t, x, y, z)\\exp[i\\omega t]$\n",
    "\n",
    "$\\vec{E}(t, x, y, z) = \\mathcal{F_{\\omega t}^{-1}}[\\vec{\\hat{E}}(\\omega, x, y, z)]=  \\cfrac{1}{2\\pi} \\displaystyle\\int\\limits_{-\\infty}^{\\infty} dt \\vec{\\hat{E}}(\\omega, x, y, z)\\exp[i\\omega t]$\n",
    "\n",
    "substituteng the last one and use Leibniz integral rule we obtain\n",
    "\\begin{equation}\n",
    "    c^2 \\nabla^2 \\vec{E} + k_{0}^2{\\vec{E}} = 0,\n",
    "    \\label{eq:Fourier_rw}\n",
    "\\end{equation}\n",
    "\n",
    "where $k_0 = \\omega/c$."
   ]
  },
  {
   "cell_type": "markdown",
   "metadata": {},
   "source": [
    "Fourier transform defenition for spacial domains\n",
    "\n",
    "$\\vec{\\overline{E}}(\\omega, k_x, k_y, z) = \\mathcal{F_{kr}}[\\vec{\\hat{E}}(\\omega, x, y, z)] =  \\displaystyle\\int\\limits_{-\\infty}^{\\infty} dx dy\\vec{\\hat{E}}(\\omega, x, y, z)\\exp[ik_x x + ik_y y)]$\n",
    "\n",
    "$\\vec{\\hat{E}}(\\omega, x, y, z) = \\mathcal{F_{kr}^{-1}}[\\vec{\\overline{E}}(\\omega, k_x, k_y, z)]=  \\cfrac{1}{(2\\pi)^2} \\displaystyle\\int\\limits_{-\\infty}^{\\infty} dxdy \\vec{\\hat{\\overline{E}}}(\\omega, k_x, k_y, z)\\exp[-ik_x x - ik_y y)]$\n",
    "\n",
    "\\begin{equation}\n",
    "   \\cfrac{d^2\\vec{\\overline{E}}}{dz^2} + k_{0}^2\\bigg(1 - \\cfrac{k_x^2}{k_0^2} - \\cfrac{k_y^2}{k_0^2} \\bigg){\\vec{\\overline{E}}} = 0,\n",
    "    \\label{eq:Fourier_kw}\n",
    "\\end{equation}\n"
   ]
  },
  {
   "cell_type": "markdown",
   "metadata": {},
   "source": [
    "solving the ordinary differential equation with inital condition ${\\vec{\\overline{E}}(\\omega, k_x, k_y, 0)}$ we have\n",
    "\n",
    "\\begin{equation}\n",
    "{\\vec{\\overline{E}}(\\omega, k_x, k_y, z)} = {\\vec{\\overline{E}}(\\omega, k_x, k_y, 0)}\\exp{\\bigg[ik_0z\\bigg(1 - \\cfrac{k_x^2}{k_0^2} - \\cfrac{k_y^2}{k_0^2} \\bigg)\\bigg]}, \n",
    "\\end{equation}\n",
    "\n",
    "which is our solution for the wavefrom propogation problem.\n"
   ]
  },
  {
   "cell_type": "markdown",
   "metadata": {},
   "source": [
    "next we will consider some aproximations and limitations\n",
    "\n",
    "1) from the solution seen that there are not limitation on $k_x, k_y$\n",
    "\n",
    "2) for the numerical simulation we can boost calculation leaving the field in time domain only, in such a way we reducing number of Fourier transforms needed for an itteration. \n",
    "\n",
    "but we assume no angular dispersion (true for plain FEL radiation) and\n",
    "\n",
    "assume narrow spectrum at center of xlamds (true for plain FEL radiation) in other words we expect the field to be\n",
    "\n",
    "$\\vec{\\hat{E}}(\\omega, x, y, z) = \\vec{\\hat{E}}_0(x, y, z)\\delta{(\\omega - \\omega_0)}$ where $\\omega_0$ is a carrier frequency.\n",
    "\n",
    "for the full simulations we can handel wide spectrum e.g. every slice in freq.domain is propagated according to its frequency"
   ]
  },
  {
   "cell_type": "markdown",
   "metadata": {},
   "source": [
    "Below, we present the sceleton of the wave front propagation function. "
   ]
  },
  {
   "cell_type": "code",
   "execution_count": 1,
   "metadata": {},
   "outputs": [
    {
     "name": "stdout",
     "output_type": "stream",
     "text": [
      "initializing ocelot...\n"
     ]
    }
   ],
   "source": [
    "import logging\n",
    "import ocelot\n",
    "from ocelot.common.globals import *\n",
    "from ocelot.optics.new_wave import *\n",
    "from ocelot.gui.dfl_plot import plot_dfl, plot_wigner\n",
    "from copy import deepcopy\n",
    "\n",
    "from ocelot import ocelog\n",
    "ocelog.setLevel(logging.WARNING)\n",
    "ocelog.setLevel(logging.DEBUG)\n",
    "ocelog.setLevel(logging.INFO)"
   ]
  },
  {
   "cell_type": "code",
   "execution_count": 2,
   "metadata": {},
   "outputs": [
    {
     "name": "stderr",
     "output_type": "stream",
     "text": [
      "[INFO    ] \u001b[0mgenerating radiation field of shape (nz,ny,nx): (101, 101, 1)\u001b[0m\n"
     ]
    },
    {
     "ename": "TypeError",
     "evalue": "'method' object is not subscriptable",
     "output_type": "error",
     "traceback": [
      "\u001b[0;31m---------------------------------------------------------------------------\u001b[0m",
      "\u001b[0;31mTypeError\u001b[0m                                 Traceback (most recent call last)",
      "\u001b[0;32m<ipython-input-2-1bef6b9a8ce2>\u001b[0m in \u001b[0;36m<module>\u001b[0;34m\u001b[0m\n\u001b[1;32m     19\u001b[0m \u001b[0mdfl\u001b[0m \u001b[0;34m=\u001b[0m \u001b[0mRadiationField\u001b[0m\u001b[0;34m(\u001b[0m\u001b[0;34m)\u001b[0m\u001b[0;34m\u001b[0m\u001b[0;34m\u001b[0m\u001b[0m\n\u001b[1;32m     20\u001b[0m \u001b[0mgrid\u001b[0m \u001b[0;34m=\u001b[0m \u001b[0mGrid\u001b[0m\u001b[0;34m(\u001b[0m\u001b[0;34m)\u001b[0m\u001b[0;34m\u001b[0m\u001b[0;34m\u001b[0m\u001b[0m\n\u001b[0;32m---> 21\u001b[0;31m \u001b[0mdfl\u001b[0m \u001b[0;34m=\u001b[0m \u001b[0mgenerate_gaussian_dfl\u001b[0m\u001b[0;34m(\u001b[0m\u001b[0;34m**\u001b[0m\u001b[0mkwargs\u001b[0m\u001b[0;34m)\u001b[0m\u001b[0;34m;\u001b[0m  \u001b[0;31m#Gaussian beam defenition\u001b[0m\u001b[0;34m\u001b[0m\u001b[0;34m\u001b[0m\u001b[0m\n\u001b[0m\u001b[1;32m     22\u001b[0m \u001b[0mgrid\u001b[0m\u001b[0;34m.\u001b[0m\u001b[0mcopy_grid\u001b[0m\u001b[0;34m(\u001b[0m\u001b[0mdfl\u001b[0m\u001b[0;34m)\u001b[0m\u001b[0;34m\u001b[0m\u001b[0;34m\u001b[0m\u001b[0m\n\u001b[1;32m     23\u001b[0m \u001b[0;31m#plot_dfl(dfl)\u001b[0m\u001b[0;34m\u001b[0m\u001b[0;34m\u001b[0m\u001b[0;34m\u001b[0m\u001b[0m\n",
      "\u001b[0;32m~/Documents/ocelot/ocelot/optics/new_wave.py\u001b[0m in \u001b[0;36mgenerate_gaussian_dfl\u001b[0;34m(xlamds, shape, dgrid, power_rms, power_center, power_angle, power_waistpos, wavelength, zsep, freq_chirp, en_pulse, power, **kwargs)\u001b[0m\n\u001b[1;32m     79\u001b[0m     \u001b[0mdfl\u001b[0m\u001b[0;34m.\u001b[0m\u001b[0mdomain_z\u001b[0m \u001b[0;34m=\u001b[0m \u001b[0;34m't'\u001b[0m\u001b[0;34m\u001b[0m\u001b[0;34m\u001b[0m\u001b[0m\n\u001b[1;32m     80\u001b[0m     \u001b[0mdfl\u001b[0m\u001b[0;34m.\u001b[0m\u001b[0mdomain_xy\u001b[0m \u001b[0;34m=\u001b[0m \u001b[0;34m's'\u001b[0m\u001b[0;34m\u001b[0m\u001b[0;34m\u001b[0m\u001b[0m\n\u001b[0;32m---> 81\u001b[0;31m     \u001b[0mdfl\u001b[0m\u001b[0;34m.\u001b[0m\u001b[0mdx\u001b[0m \u001b[0;34m=\u001b[0m \u001b[0mdgrid\u001b[0m\u001b[0;34m[\u001b[0m\u001b[0;36m0\u001b[0m\u001b[0;34m]\u001b[0m \u001b[0;34m/\u001b[0m \u001b[0mdfl\u001b[0m\u001b[0;34m.\u001b[0m\u001b[0mNx\u001b[0m\u001b[0;34m(\u001b[0m\u001b[0;34m)\u001b[0m\u001b[0;34m\u001b[0m\u001b[0;34m\u001b[0m\u001b[0m\n\u001b[0m\u001b[1;32m     82\u001b[0m     \u001b[0mdfl\u001b[0m\u001b[0;34m.\u001b[0m\u001b[0mdy\u001b[0m \u001b[0;34m=\u001b[0m \u001b[0mdgrid\u001b[0m\u001b[0;34m[\u001b[0m\u001b[0;36m1\u001b[0m\u001b[0;34m]\u001b[0m \u001b[0;34m/\u001b[0m \u001b[0mdfl\u001b[0m\u001b[0;34m.\u001b[0m\u001b[0mNy\u001b[0m\u001b[0;34m(\u001b[0m\u001b[0;34m)\u001b[0m\u001b[0;34m\u001b[0m\u001b[0;34m\u001b[0m\u001b[0m\n\u001b[1;32m     83\u001b[0m \u001b[0;34m\u001b[0m\u001b[0m\n",
      "\u001b[0;32m~/Documents/ocelot/ocelot/optics/new_wave.py\u001b[0m in \u001b[0;36mNx\u001b[0;34m(self)\u001b[0m\n\u001b[1;32m    249\u001b[0m         \u001b[0mnumber\u001b[0m \u001b[0mof\u001b[0m \u001b[0mpoints\u001b[0m \u001b[0;32min\u001b[0m \u001b[0mx\u001b[0m\u001b[0;34m\u001b[0m\u001b[0;34m\u001b[0m\u001b[0m\n\u001b[1;32m    250\u001b[0m         '''\n\u001b[0;32m--> 251\u001b[0;31m         \u001b[0;32mreturn\u001b[0m \u001b[0mself\u001b[0m\u001b[0;34m.\u001b[0m\u001b[0mshape\u001b[0m\u001b[0;34m[\u001b[0m\u001b[0;36m2\u001b[0m\u001b[0;34m]\u001b[0m\u001b[0;34m\u001b[0m\u001b[0;34m\u001b[0m\u001b[0m\n\u001b[0m\u001b[1;32m    252\u001b[0m \u001b[0;34m\u001b[0m\u001b[0m\n\u001b[1;32m    253\u001b[0m     \u001b[0;32mdef\u001b[0m \u001b[0mgrid_x\u001b[0m\u001b[0;34m(\u001b[0m\u001b[0mself\u001b[0m\u001b[0;34m)\u001b[0m\u001b[0;34m:\u001b[0m\u001b[0;34m\u001b[0m\u001b[0;34m\u001b[0m\u001b[0m\n",
      "\u001b[0;31mTypeError\u001b[0m: 'method' object is not subscriptable"
     ]
    }
   ],
   "source": [
    "\n",
    "E_pohoton = 1239.8 #central photon energy [eV]\n",
    "xlamds = h_eV_s * speed_of_light / E_pohoton\n",
    "kwargs={'xlamds':(h_eV_s * speed_of_light / E_pohoton), #[m] - central wavelength\n",
    "        'rho':1.0e-4, \n",
    "        'shape':(101,101,1),             #(x,y,z) shape of field matrix (reversed) to dfl.fld\n",
    "        'dgrid':(400e-5,400e-5,35e-6), #(x,y,z) [m] - size of field matrix\n",
    "        'power_rms':(25e-5,25e-5,10e-6),#(x,y,z) [m] - rms size of the radiation distribution (gaussian)\n",
    "        'power_center':(0,0,None),     #(x,y,z) [m] - position of the radiation distribution\n",
    "        'power_angle':(0,0),           #(x,y) [rad] - angle of further radiation propagation\n",
    "        'power_waistpos':(0,0),        #(Z_x,Z_y) [m] downstrean location of the waist of the beam\n",
    "        'wavelength':None,             #central frequency of the radiation, if different from xlamds\n",
    "        'zsep':None,                   #distance between slices in z as zsep*xlamds\n",
    "        'freq_chirp':0,                #dw/dt=[1/fs**2] - requency chirp of the beam around power_center[2]\n",
    "        'en_pulse':None,                #total energy or max power of the pulse, use only one\n",
    "        'power':1e6,\n",
    "        }\n",
    "\n",
    "dfl = RadiationField()\n",
    "grid = Grid()\n",
    "dfl = generate_gaussian_dfl(**kwargs);  #Gaussian beam defenition\n",
    "grid.copy_grid(dfl)\n",
    "#plot_dfl(dfl)\n",
    "#dfl.shape\n",
    "dfl.shape()\n"
   ]
  },
  {
   "cell_type": "code",
   "execution_count": 9,
   "metadata": {},
   "outputs": [],
   "source": [
    "### the skeleton for propagation function\n",
    "z0 = 100 #the distance of propagation \n",
    "domains='kt' # or 'kt' --- in which domain propogarion will be applied\n",
    "orig_domains=dfl.domains()\n",
    "\n",
    "if domains in ['kf', 'kt']:\n",
    "    dfl.to_domain(domains) #transform the field to the desired domain\n",
    "else:\n",
    "    raise ValueError(\"domains value should be 'kf' or 'kt' or 'k'\")"
   ]
  },
  {
   "cell_type": "code",
   "execution_count": 10,
   "metadata": {},
   "outputs": [],
   "source": [
    "k_x, k_y = np.meshgrid(dfl.grid_kx(), dfl.grid_ky()) # the grid for the point spread function\n",
    "\n",
    "if dfl.domain_z is 'f':\n",
    "    k = dfl.grid_kz()\n",
    "    H = [np.exp(1j * z0 * (np.sqrt(k[i] ** 2 - k_x ** 2 - k_y ** 2) - k[i])) for i in range(dfl.Nz())] #H = exp(iz0(k^2 - kx^2 - ky^2)^(1/2) - k)\n",
    "else:\n",
    "    k = 2 * np.pi / dfl.xlamds\n",
    "    H = [np.exp(1j * z0 * (np.sqrt(k ** 2 - k_x ** 2 - k_y ** 2) - k)) for i in range(dfl.Nz())]  #H = exp(iz0(k^2 - kx^2 - ky^2)^(1/2) - k)"
   ]
  },
  {
   "cell_type": "code",
   "execution_count": 11,
   "metadata": {},
   "outputs": [
    {
     "ename": "NameError",
     "evalue": "name 'dfl' is not defined",
     "output_type": "error",
     "traceback": [
      "\u001b[0;31m---------------------------------------------------------------------------\u001b[0m",
      "\u001b[0;31mNameError\u001b[0m                                 Traceback (most recent call last)",
      "\u001b[0;32m<ipython-input-11-6135856e37ae>\u001b[0m in \u001b[0;36m<module>\u001b[0;34m\u001b[0m\n\u001b[0;32m----> 1\u001b[0;31m \u001b[0mdfl\u001b[0m\u001b[0;34m.\u001b[0m\u001b[0mfld\u001b[0m \u001b[0;34m=\u001b[0m \u001b[0mdfl\u001b[0m\u001b[0;34m.\u001b[0m\u001b[0mfld\u001b[0m\u001b[0;34m*\u001b[0m\u001b[0mH\u001b[0m\u001b[0;34m\u001b[0m\u001b[0;34m\u001b[0m\u001b[0m\n\u001b[0m\u001b[1;32m      2\u001b[0m \u001b[0mdfl\u001b[0m\u001b[0;34m.\u001b[0m\u001b[0mto_domain\u001b[0m\u001b[0;34m(\u001b[0m\u001b[0morig_domains\u001b[0m\u001b[0;34m)\u001b[0m\u001b[0;34m\u001b[0m\u001b[0;34m\u001b[0m\u001b[0m\n\u001b[1;32m      3\u001b[0m \u001b[0mplot_dfl\u001b[0m\u001b[0;34m(\u001b[0m\u001b[0mdfl\u001b[0m\u001b[0;34m)\u001b[0m\u001b[0;34m\u001b[0m\u001b[0;34m\u001b[0m\u001b[0m\n\u001b[1;32m      4\u001b[0m \u001b[0mdfl\u001b[0m\u001b[0;34m\u001b[0m\u001b[0;34m\u001b[0m\u001b[0m\n",
      "\u001b[0;31mNameError\u001b[0m: name 'dfl' is not defined"
     ]
    }
   ],
   "source": [
    "dfl.fld = dfl.fld*H\n",
    "dfl.to_domain(orig_domains)\n",
    "plot_dfl(dfl)"
   ]
  },
  {
   "cell_type": "code",
   "execution_count": 2,
   "metadata": {},
   "outputs": [
    {
     "name": "stdout",
     "output_type": "stream",
     "text": [
      "initializing ocelot...\n"
     ]
    }
   ],
   "source": [
    "import logging\n",
    "import ocelot\n",
    "from ocelot.common.globals import *\n",
    "from ocelot.optics.new_wave import *\n",
    "from ocelot.gui.dfl_plot import plot_dfl, plot_wigner\n",
    "from copy import deepcopy\n",
    "\n",
    "from ocelot import ocelog\n",
    "ocelog.setLevel(logging.WARNING)\n",
    "ocelog.setLevel(logging.DEBUG)\n",
    "ocelog.setLevel(logging.INFO)"
   ]
  },
  {
   "cell_type": "code",
   "execution_count": 19,
   "metadata": {},
   "outputs": [
    {
     "name": "stderr",
     "output_type": "stream",
     "text": [
      "[INFO    ] \u001b[0mimitating SASE radiation\u001b[0m\n",
      "[INFO    ] : \u001b[0mgenerating radiation field of shape (nz,ny,nx): (51, 51, 100)\u001b[0m\n"
     ]
    },
    {
     "ename": "TypeError",
     "evalue": "'tuple' object is not callable",
     "output_type": "error",
     "traceback": [
      "\u001b[0;31m---------------------------------------------------------------------------\u001b[0m",
      "\u001b[0;31mTypeError\u001b[0m                                 Traceback (most recent call last)",
      "\u001b[0;32m<ipython-input-19-c5e789b2dacc>\u001b[0m in \u001b[0;36m<module>\u001b[0;34m\u001b[0m\n\u001b[1;32m      2\u001b[0m \u001b[0mxlamds\u001b[0m \u001b[0;34m=\u001b[0m \u001b[0mh_eV_s\u001b[0m \u001b[0;34m*\u001b[0m \u001b[0mspeed_of_light\u001b[0m \u001b[0;34m/\u001b[0m \u001b[0mE_pohoton\u001b[0m\u001b[0;34m\u001b[0m\u001b[0;34m\u001b[0m\u001b[0m\n\u001b[1;32m      3\u001b[0m \u001b[0;34m\u001b[0m\u001b[0m\n\u001b[0;32m----> 4\u001b[0;31m \u001b[0mSASE_dfl\u001b[0m \u001b[0;34m=\u001b[0m \u001b[0mimitate_sase_dfl\u001b[0m\u001b[0;34m(\u001b[0m\u001b[0mxlamds\u001b[0m\u001b[0;34m)\u001b[0m\u001b[0;34m\u001b[0m\u001b[0;34m\u001b[0m\u001b[0m\n\u001b[0m\u001b[1;32m      5\u001b[0m \u001b[0;31m#plot_dfl(SASE_dfl)\u001b[0m\u001b[0;34m\u001b[0m\u001b[0;34m\u001b[0m\u001b[0;34m\u001b[0m\u001b[0m\n\u001b[1;32m      6\u001b[0m \u001b[0mSASE_dfl\u001b[0m\u001b[0;34m.\u001b[0m\u001b[0mshape\u001b[0m\u001b[0;34m\u001b[0m\u001b[0;34m\u001b[0m\u001b[0m\n",
      "\u001b[0;32m~/Documents/ocelot/ocelot/optics/new_wave.py\u001b[0m in \u001b[0;36mimitate_sase_dfl\u001b[0;34m(xlamds, rho, seed, **kwargs)\u001b[0m\n\u001b[1;32m    688\u001b[0m     \u001b[0mdfl\u001b[0m \u001b[0;34m=\u001b[0m \u001b[0mgenerate_gaussian_dfl\u001b[0m\u001b[0;34m(\u001b[0m\u001b[0mxlamds\u001b[0m\u001b[0;34m,\u001b[0m \u001b[0;34m**\u001b[0m\u001b[0mkwargs\u001b[0m\u001b[0;34m)\u001b[0m\u001b[0;34m\u001b[0m\u001b[0;34m\u001b[0m\u001b[0m\n\u001b[1;32m    689\u001b[0m \u001b[0;34m\u001b[0m\u001b[0m\n\u001b[0;32m--> 690\u001b[0;31m     \u001b[0m_logger\u001b[0m\u001b[0;34m.\u001b[0m\u001b[0mdebug\u001b[0m\u001b[0;34m(\u001b[0m\u001b[0mind_str\u001b[0m \u001b[0;34m+\u001b[0m \u001b[0;34m'dfl.shape = {}'\u001b[0m\u001b[0;34m.\u001b[0m\u001b[0mformat\u001b[0m\u001b[0;34m(\u001b[0m\u001b[0mdfl\u001b[0m\u001b[0;34m.\u001b[0m\u001b[0mshape\u001b[0m\u001b[0;34m(\u001b[0m\u001b[0;34m)\u001b[0m\u001b[0;34m)\u001b[0m\u001b[0;34m)\u001b[0m\u001b[0;34m\u001b[0m\u001b[0;34m\u001b[0m\u001b[0m\n\u001b[0m\u001b[1;32m    691\u001b[0m     \u001b[0mtd_scale\u001b[0m \u001b[0;34m=\u001b[0m \u001b[0mdfl\u001b[0m\u001b[0;34m.\u001b[0m\u001b[0mscale_z\u001b[0m\u001b[0;34m(\u001b[0m\u001b[0;34m)\u001b[0m\u001b[0;34m\u001b[0m\u001b[0;34m\u001b[0m\u001b[0m\n\u001b[1;32m    692\u001b[0m     \u001b[0m_logger\u001b[0m\u001b[0;34m.\u001b[0m\u001b[0mdebug\u001b[0m\u001b[0;34m(\u001b[0m\u001b[0mind_str\u001b[0m \u001b[0;34m+\u001b[0m \u001b[0;34m'time domain range = [{},  {}]m'\u001b[0m\u001b[0;34m.\u001b[0m\u001b[0mformat\u001b[0m\u001b[0;34m(\u001b[0m\u001b[0mtd_scale\u001b[0m\u001b[0;34m[\u001b[0m\u001b[0;36m0\u001b[0m\u001b[0;34m]\u001b[0m\u001b[0;34m,\u001b[0m \u001b[0mtd_scale\u001b[0m\u001b[0;34m[\u001b[0m\u001b[0;34m-\u001b[0m\u001b[0;36m1\u001b[0m\u001b[0;34m]\u001b[0m\u001b[0;34m)\u001b[0m\u001b[0;34m)\u001b[0m\u001b[0;34m\u001b[0m\u001b[0;34m\u001b[0m\u001b[0m\n",
      "\u001b[0;31mTypeError\u001b[0m: 'tuple' object is not callable"
     ]
    }
   ],
   "source": [
    "E_pohoton = 1239.8 #central photon energy [eV]\n",
    "xlamds = h_eV_s * speed_of_light / E_pohoton\n",
    "\n",
    "SASE_dfl = imitate_sase_dfl(xlamds)\n",
    "#plot_dfl(SASE_dfl)\n",
    "SASE_dfl.shape"
   ]
  },
  {
   "cell_type": "code",
   "execution_count": null,
   "metadata": {},
   "outputs": [],
   "source": []
  }
 ],
 "metadata": {
  "kernelspec": {
   "display_name": "Python 3",
   "language": "python",
   "name": "python3"
  },
  "language_info": {
   "codemirror_mode": {
    "name": "ipython",
    "version": 3
   },
   "file_extension": ".py",
   "mimetype": "text/x-python",
   "name": "python",
   "nbconvert_exporter": "python",
   "pygments_lexer": "ipython3",
   "version": "3.7.3"
  }
 },
 "nbformat": 4,
 "nbformat_minor": 2
}
